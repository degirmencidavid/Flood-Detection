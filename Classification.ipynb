{
  "cells": [
    {
      "cell_type": "code",
      "execution_count": null,
      "metadata": {
        "id": "QCqqE3nM3O_h"
      },
      "outputs": [],
      "source": [
        "# Package installs, run on new instances if using Google Colab\n",
        "!pip install rasterio\n",
        "!pip install image"
      ]
    },
    {
      "cell_type": "code",
      "execution_count": null,
      "metadata": {
        "id": "JZ66xYj83Cal"
      },
      "outputs": [],
      "source": [
        "# Imports (some unused)\n",
        "\n",
        "import keras\n",
        "import rasterio\n",
        "from rasterio.plot import show\n",
        "from matplotlib import pyplot as plt\n",
        "from PIL import Image\n",
        "import numpy as np\n",
        "import skimage\n",
        "from pylab import imshow\n",
        "import time\n",
        "import pandas as pd\n",
        "\n",
        "from sklearn import datasets\n",
        "from sklearn.model_selection import train_test_split\n",
        "from sklearn.ensemble import RandomForestClassifier\n",
        "from sklearn.datasets import make_classification\n",
        "from sklearn import svm\n",
        "from sklearn.model_selection import train_test_split\n",
        "\n",
        "import math"
      ]
    },
    {
      "cell_type": "code",
      "execution_count": null,
      "metadata": {
        "id": "1-vmcmyVFCiF"
      },
      "outputs": [],
      "source": [
        "# NDWI function\n",
        "def ndwi_img(image):\n",
        "  \n",
        "  #ndwi = (B3-B8A)/(B3+B8A)\n",
        "\n",
        "  #convert to float for division\n",
        "  band3 = image[1].astype(float)\n",
        "  band8a = image[4].astype(float)\n",
        "\n",
        "  sub = np.subtract(band3, band8a)\n",
        "  add = np.add(band3, band8a)\n",
        "  ndwi = np.divide(sub, add, out=np.zeros_like(sub), where=add!=0)\n",
        "\n",
        "  return ndwi\n",
        "\n",
        "# rgb function\n",
        "def rgb_img(image):\n",
        "  rgb = np.dstack((image[2],image[1],image[0]))\n",
        "  return rgb"
      ]
    },
    {
      "cell_type": "code",
      "execution_count": null,
      "metadata": {
        "id": "33cpjSkV3tKS"
      },
      "outputs": [],
      "source": [
        "# Import training data (flood pixels)\n",
        "f = open(\"floodpixels.txt\")\n",
        "fpixels = np.loadtxt(f)\n",
        "f.close()\n",
        "\n",
        "# Non flood pixels\n",
        "# Temporarily change this because non flood pixels export isnt working as intended, this is to be selected\n",
        "#f = open(\"nonfloodpixels.txt\")\n",
        "f = open(\"nonfloodpixels.txt\")\n",
        "nfpixels = np.loadtxt(f)\n",
        "f.close()\n",
        "\n",
        "\n",
        "# Prestuff #\n",
        "\n",
        "# Flood pixels\n",
        "f = open(\"pfloodpixels.txt\")\n",
        "pfpixels = np.loadtxt(f)\n",
        "f.close()\n",
        "\n",
        "# Non flood pixels\n",
        "f = open(\"pnonfloodpixels.txt\")\n",
        "pnfpixels = np.loadtxt(f)\n",
        "f.close()\n",
        "\n",
        "# S1 stuff #\n",
        "f = open(\"floodpixelsS1.txt\")\n",
        "fpixelsS1 = np.loadtxt(f)\n",
        "f.close()\n",
        "\n",
        "f = open(\"nonfloodpixelsS1.txt\")\n",
        "nfpixelsS1 = np.loadtxt(f)\n",
        "f.close()\n",
        "\n",
        "fpixels = np.vstack([fpixels, fpixelsS1])\n",
        "nfpixels = np.vstack([nfpixels, nfpixelsS1])\n",
        "\n",
        "\n",
        "print(len(fpixels))\n",
        "print(nfpixels)"
      ]
    },
    {
      "cell_type": "code",
      "execution_count": null,
      "metadata": {
        "id": "Np5IWk8aF_0m"
      },
      "outputs": [],
      "source": [
        "# Set up flood pixel and non flood pixel images\n",
        "ndwifp = ndwi_img(fpixels)\n",
        "ndwinfp = ndwi_img(nfpixels)\n",
        "\n",
        "ndwipfp = ndwi_img(pfpixels)\n",
        "ndwipnfp = ndwi_img(pnfpixels)\n",
        "\n",
        "ndwidiff_fp = ndwifp - ndwipfp\n",
        "ndwidiff_nfp = ndwinfp - ndwipnfp\n",
        "\n",
        "print(ndwifp)\n",
        "print(ndwinfp)"
      ]
    },
    {
      "cell_type": "code",
      "execution_count": null,
      "metadata": {
        "id": "dwgCsA3nHAYK"
      },
      "outputs": [],
      "source": [
        "# Debugging\n",
        "print(type(fpixels[1][1]))\n",
        "maxf = np.finfo('d').max\n",
        "print(maxf)"
      ]
    },
    {
      "cell_type": "code",
      "execution_count": null,
      "metadata": {
        "id": "0MLmtYdoD2jb"
      },
      "outputs": [],
      "source": [
        "# Define features\n",
        "pixel_features = [\"B2\",\"B3\",\"B4\",\"B8\",\"B8A\",\"B11\",\"ndwi\",\"rgb\"]#not being used\n",
        "pixel_features_temp = [\"B2\",\"B3\",\"B4\",\"B8\",\"B8A\",\"B11\",\"VH diff\", \"VV diff\"] # need to add ndwi and rgb to output\n",
        "image_features = [\"flooded\",\"nonflooded\"]\n",
        "\n",
        "# Target\n",
        "pixel_target_names = [\"no flood\",\"flood\"]\n",
        "image_target_names = [\"no flood\",\"flood\"]\n",
        "target_id = [0,1]"
      ]
    },
    {
      "cell_type": "code",
      "execution_count": null,
      "metadata": {
        "id": "Oou9-sPDAJnf"
      },
      "outputs": [],
      "source": [
        "# Append property names, target names and target id, then convert to pd dataframe\n",
        "\n",
        "# Convert to dataframe\n",
        "df = pd.DataFrame(np.transpose(fpixels),columns=pixel_features_temp)\n",
        "\n",
        "\n",
        "df[\"ndwi\"] = ndwi_img(fpixels) - ndwi_img(pfpixels)\n",
        "#rgb is 3d so the same method doesn't work\n",
        "df[\"target\"] = 1\n",
        "df"
      ]
    },
    {
      "cell_type": "code",
      "execution_count": null,
      "metadata": {
        "id": "4TML-FL8LbIY"
      },
      "outputs": [],
      "source": [
        "# Non flood pixels\n",
        "dnf = pd.DataFrame(np.transpose(nfpixels),columns=pixel_features_temp)\n",
        "dnf[\"ndwi\"] = ndwi_img(nfpixels)  - ndwi_img(pnfpixels)\n",
        "dnf[\"target\"] = 0\n",
        "dnf"
      ]
    },
    {
      "cell_type": "code",
      "execution_count": null,
      "metadata": {
        "id": "jDz36RH4Ljii"
      },
      "outputs": [],
      "source": [
        "# Join dataframes\n",
        "df_all = pd.concat([df,dnf], ignore_index=1)\n",
        "df_all"
      ]
    },
    {
      "cell_type": "code",
      "execution_count": null,
      "metadata": {
        "id": "QQ6-evjfKJwS"
      },
      "outputs": [],
      "source": [
        "# Separate into targets (kind of redundant but for readability)\n",
        "df_all_0 = df_all[df_all.target==0]\n",
        "df_all_1 = df_all[df_all.target==1]\n",
        "\n",
        "# Example plot of ndwi of flood pixels vs non flood pixels\n",
        "plt.scatter(df_all_0[\"ndwi\"],df_all_0[\"B2\"], color=\"g\", marker = \"+\")\n",
        "plt.scatter(df_all_1[\"ndwi\"],df_all_1[\"B2\"], color=\"b\", marker = \".\")\n",
        "plt.xlabel(\"ndwi\")\n",
        "plt.ylabel(\"B2\")"
      ]
    },
    {
      "cell_type": "code",
      "execution_count": null,
      "metadata": {
        "id": "G7q5W1CvGYhw"
      },
      "outputs": [],
      "source": [
        "# Same scatter, other way around\n",
        "plt.scatter(df_all_1[\"ndwi\"],df_all_1[\"B2\"], color=\"b\", marker = \".\")\n",
        "plt.scatter(df_all_0[\"ndwi\"],df_all_0[\"B2\"], color=\"g\", marker = \"+\")\n",
        "plt.xlabel(\"ndwi\")\n",
        "plt.ylabel(\"B2\")"
      ]
    },
    {
      "cell_type": "code",
      "execution_count": null,
      "metadata": {
        "id": "Lnw27e5PlQHN"
      },
      "outputs": [],
      "source": [
        "# Example plot of VV and VH differences\n",
        "plt.scatter(df_all_0[\"VH diff\"],df_all_0[\"VV diff\"], color=\"g\", marker = \"+\")\n",
        "plt.scatter(df_all_1[\"VH diff\"],df_all_1[\"VV diff\"], color=\"b\", marker = \".\")\n",
        "plt.xlabel(\"VH\")\n",
        "plt.ylabel(\"VV\")"
      ]
    },
    {
      "cell_type": "code",
      "execution_count": null,
      "metadata": {
        "id": "KzawSlb5lyOP"
      },
      "outputs": [],
      "source": [
        "# Example plot of VV and VH differences\n",
        "plt.scatter(df_all_1[\"VH diff\"],df_all_1[\"VV diff\"], color=\"b\", marker = \".\")\n",
        "plt.scatter(df_all_0[\"VH diff\"],df_all_0[\"VV diff\"], color=\"g\", marker = \"+\")\n",
        "plt.xlabel(\"VH\")\n",
        "plt.ylabel(\"VV\")"
      ]
    },
    {
      "cell_type": "code",
      "execution_count": null,
      "metadata": {
        "id": "YzyFxQd5cJox"
      },
      "outputs": [],
      "source": [
        "# Drop rows with all 0\n",
        "df_all = df_all.loc[df_all.B2+df_all.B3+df_all.B4+df_all.B8+df_all.B8A+df_all.B11!=0].reset_index().drop([\"index\"], axis=\"columns\")\n",
        "df_all"
      ]
    },
    {
      "cell_type": "code",
      "execution_count": null,
      "metadata": {
        "id": "vGYWe8_bXpa9"
      },
      "outputs": [],
      "source": [
        "# Histograms\n",
        "df_no_target = df_all.drop([\"target\"], axis=\"columns\")\n",
        "ncols = len(df_no_target.columns)\n",
        "histarr = np.zeros(ncols)\n",
        "i=0\n",
        "for column in df_no_target:\n",
        "  # Select column contents by column name using [] operator\n",
        "  columnSeriesObj = df_all[column]\n",
        "  print(column)\n",
        "  hist = df_no_target[column].hist(bins=30)\n",
        "  plt.show()\n",
        "  i=i+1"
      ]
    },
    {
      "cell_type": "code",
      "execution_count": null,
      "metadata": {
        "id": "UDS1dNsmOuUg"
      },
      "outputs": [],
      "source": [
        "# Remove the target column from dataframe\n",
        "X = df_all.drop([\"target\"], axis=\"columns\")\n",
        "#X = X.drop([\"B2\",\"B3\",\"B4\",\"B8\",\"B8A\",\"B11\",\"ndwi\"], axis=\"columns\")\n",
        "\n",
        "#X = X.drop([\"ndwi\"], axis=\"columns\")\n",
        "#X.sort_values(by=[\"VH diff\", \"VV diff\"], ascending=False)\n",
        "X"
      ]
    },
    {
      "cell_type": "code",
      "execution_count": null,
      "metadata": {
        "id": "nHtr5REUzuNj"
      },
      "outputs": [],
      "source": [
        "# Debuuging: sorting them by size and redifining them, obviously not for functional use, just debugging\n",
        "# Randomize order of each target section - dont run this cell if you want actual data\n",
        "\n",
        "X = X.abs().sort_values(by=[\"ndwi\"], ascending=False, ignore_index=True)\n",
        "\n",
        "#X = X.abs().sort_values(by=[\"VH diff\"], ascending=False, ignore_index=True)\n",
        "#X = X.abs().sort_values(by=[\"VV diff\"], ascending=False, ignore_index=True)\n",
        "\n",
        "X1 = X.head(int(920/2))\n",
        "# Plot\n",
        "plt.scatter(X[\"ndwi\"],X[\"ndwi\"], color=\"g\", marker = \"+\")\n",
        "plt.scatter(X1[\"ndwi\"],X1[\"ndwi\"], color=\"b\", marker = \"+\")\n",
        "\n",
        "\n",
        "plt.xlabel(\"ndwi\")\n",
        "plt.ylabel(\"ndwi\")\n",
        "\n",
        "X = X.drop([\"B2\",\"B3\",\"B4\",\"B8\",\"B8A\",\"B11\"], axis=\"columns\")\n",
        "X\n"
      ]
    },
    {
      "cell_type": "code",
      "execution_count": null,
      "metadata": {
        "id": "CGwuE3jHPOt2"
      },
      "outputs": [],
      "source": [
        "# Dataframe of targets\n",
        "y = df_all.target\n",
        "y"
      ]
    },
    {
      "cell_type": "code",
      "execution_count": null,
      "metadata": {
        "id": "tnRbR1RePTx_"
      },
      "outputs": [],
      "source": [
        "# Set up training, test on size, train on (1-size) - vary somewhat\n",
        "# smaller a, larger training size, should be more accurate but at some point,\n",
        "# the amount of testing data becomes too little so a few misclassifications become\n",
        "# a much larger proportion\n",
        "a = 0.6\n",
        "X_train, X_test, y_train, y_test = train_test_split(X,y,test_size=a)\n",
        "\n",
        "print(len(X_train)) #(1-size) of total length\n",
        "print(len(X_test))"
      ]
    },
    {
      "cell_type": "code",
      "execution_count": null,
      "metadata": {
        "id": "H-EoUKhG7OqR"
      },
      "outputs": [],
      "source": [
        "# Classifier, play with parameters to get different accuracies\n",
        "clf = svm.SVC(gamma=\"auto\")\n",
        "\n",
        "#clf = RandomForestClassifier()\n",
        "\n",
        "# Fitting \n",
        "clf.fit(X_train, y_train)\n",
        "\n",
        "# Score\n",
        "score = clf.score(X_test, y_test)\n",
        "\n",
        "print(clf)\n",
        "\n",
        "print(score*100,\"%\")\n",
        "\n",
        "rs =  round(score*100, 3 - int(math.floor(math.log10(abs(score*100)))) - 1)\n",
        "print(rs,\"% (3sf)\")"
      ]
    }
  ],
  "metadata": {
    "colab": {
      "collapsed_sections": [],
      "name": "sklearn.ipynb",
      "provenance": []
    },
    "kernelspec": {
      "display_name": "Python 3",
      "name": "python3"
    },
    "language_info": {
      "name": "python"
    }
  },
  "nbformat": 4,
  "nbformat_minor": 0
}
