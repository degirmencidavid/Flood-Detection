{
  "cells": [
    {
      "cell_type": "code",
      "execution_count": null,
      "metadata": {
        "id": "IXeL7_7zMSWv"
      },
      "outputs": [],
      "source": [
        "!pip install rasterio"
      ]
    },
    {
      "cell_type": "code",
      "source": [
        "!pip install image"
      ],
      "metadata": {
        "id": "Mp5ZN7gMZ89D"
      },
      "execution_count": null,
      "outputs": []
    },
    {
      "cell_type": "code",
      "execution_count": null,
      "metadata": {
        "id": "Hm9rHGYAK1xo"
      },
      "outputs": [],
      "source": [
        "import keras #idk how to use this one\n",
        "import rasterio\n",
        "from rasterio.plot import show\n",
        "from matplotlib import pyplot as plt\n",
        "from PIL import Image\n",
        "import numpy as np\n",
        "import skimage\n",
        "from pylab import imshow\n",
        "import time\n",
        "import pandas as pd\n",
        "from functools import reduce"
      ]
    },
    {
      "cell_type": "code",
      "execution_count": null,
      "metadata": {
        "id": "wxj99mcaaAvM"
      },
      "outputs": [],
      "source": [
        "from sklearn import datasets\n",
        "from sklearn.model_selection import train_test_split\n",
        "from sklearn.ensemble import RandomForestClassifier\n",
        "from sklearn.datasets import make_classification"
      ]
    },
    {
      "cell_type": "code",
      "execution_count": null,
      "metadata": {
        "id": "i_pvH9o_MGx6"
      },
      "outputs": [],
      "source": [
        "#data collecition\n",
        "\n",
        "#to be automated\n",
        "#currently set up for data on 2020-01-19\n",
        "\n",
        "#image\n",
        "B2 = Image.open(\"B2 image 2020-01-19.tif\")\n",
        "B3 = Image.open(\"B3 image 2020-01-19.tif\")\n",
        "B4 = Image.open(\"B4 image 2020-01-19.tif\")\n",
        "B8 = Image.open(\"B8 image 2020-01-19.tif\")\n",
        "B8A = Image.open(\"B8A image 2020-01-19.tif\")\n",
        "B11 = Image.open(\"B11 image 2020-01-19.tif\")\n",
        "\n",
        "B2arr = np.array(B2)\n",
        "B3arr = np.array(B3)\n",
        "B4arr = np.array(B4)\n",
        "B8arr = np.array(B8)\n",
        "B8Aarr = np.array(B8A)\n",
        "B11arr = np.array(B11)\n",
        "\n",
        "#pre-image\n",
        "B2p = Image.open(\"B2 pre-image 2020-01-19.tif\")\n",
        "B3p = Image.open(\"B3 pre-image 2020-01-19.tif\")\n",
        "B4p = Image.open(\"B4 pre-image 2020-01-19.tif\")\n",
        "B8p = Image.open(\"B8 pre-image 2020-01-19.tif\")\n",
        "B8Ap = Image.open(\"B8A pre-image 2020-01-19.tif\")\n",
        "B11p = Image.open(\"B11 pre-image 2020-01-19.tif\")\n",
        "\n",
        "B2parr = np.array(B2p)\n",
        "B3parr = np.array(B3p)\n",
        "B4parr = np.array(B4p)\n",
        "B8parr = np.array(B8p)\n",
        "B8Aparr = np.array(B8Ap)\n",
        "B11parr = np.array(B11p)\n",
        "\n",
        "\n",
        "fp = Image.open(\"floodpixels 2020-01-19.tif\")\n",
        "fparr = np.array(fp)\n",
        "\n",
        "rgb = np.dstack((B4arr,B3arr,B2arr))\n",
        "rgbp = np.dstack((B4parr,B3parr,B2parr))"
      ]
    },
    {
      "cell_type": "code",
      "source": [
        "print(type(B2arr[1][1]))\n",
        "#print(len(B2arr))\n",
        "\n",
        "rgb = np.dstack((B4arr,B3arr,B2arr))\n",
        "rgbp = np.dstack((B4parr,B3parr,B2parr))\n",
        "print(len(rgb[0]))\n",
        "print(len(rgb))"
      ],
      "metadata": {
        "id": "B9uNQZUUHpJz"
      },
      "execution_count": null,
      "outputs": []
    },
    {
      "cell_type": "code",
      "execution_count": null,
      "metadata": {
        "id": "4cmwJt4nXq7K"
      },
      "outputs": [],
      "source": [
        "#show rgb for image\n",
        "print(len(rgb))\n",
        "imshow((rgb*255).astype(np.uint8))"
      ]
    },
    {
      "cell_type": "code",
      "execution_count": null,
      "metadata": {
        "id": "yxGuPaJHXtVX"
      },
      "outputs": [],
      "source": [
        "#show rgb for pre-image\n",
        "imshow((rgbp*255).astype(np.uint8))"
      ]
    },
    {
      "cell_type": "code",
      "execution_count": null,
      "metadata": {
        "id": "QlupkCafX0U-"
      },
      "outputs": [],
      "source": [
        "#show flood pixels\n",
        "#pixels stored as 1 in matrix so multiply by 255, alternatively could cast to a float\n",
        "blufp = fparr*255\n",
        "#blufp = fparr.astype(float)\n",
        "imshow(blufp)"
      ]
    },
    {
      "cell_type": "code",
      "execution_count": null,
      "metadata": {
        "id": "8iqJ9xzJwtlk"
      },
      "outputs": [],
      "source": [
        "#ndwi function given an image (array), returns ndwi image (array)\n",
        "#returns nan because np.divide is weird\n",
        "def ndwi_img(image):\n",
        "  \n",
        "  #init\n",
        "  lnth = len(image[0])\n",
        "  im = np.zeros((lnth, lnth))\n",
        "\n",
        "  #ndwi = (B3-B8A)/(B3+B8A)\n",
        "\n",
        "  #convert to float for division\n",
        "  band3 = image[1].astype(float)\n",
        "  band8a = image[4].astype(float)\n",
        "\n",
        "  sub = np.subtract(band3, band8a)\n",
        "  add = np.add(band3, band8a)\n",
        "  ndwi = np.divide(sub, add, out=np.zeros_like(sub), where=add!=0)\n",
        "\n",
        "  return ndwi"
      ]
    },
    {
      "cell_type": "code",
      "execution_count": null,
      "metadata": {
        "id": "XkyKARNPxuRb"
      },
      "outputs": [],
      "source": [
        "#training per-pixel\n",
        "\n",
        "#identifying features\n",
        "features = [\"nonflood\", \"flood\"]\n",
        "\n",
        "#image array of bands\n",
        "imarr = [B2arr,B3arr,B4arr,B8arr,B8Aarr,B11arr]\n",
        "\n",
        "#preimage array of bands\n",
        "imparr = [B2parr,B3parr,B4parr,B8parr,B8Aparr,B11parr]\n",
        "\n",
        "#find nonzero indicies of flood pixels array\n",
        "#returns tuple of 2 arrays with indicies\n",
        "fparrI = np.nonzero(fparr)#indicies of flood pixels\n",
        "fparrnI = np.where(fparr == 0)#indicies where there are no flood pixels\n",
        "\n",
        "#print(fparrI)\n",
        "\n",
        "#nonzeros of s2 image, if all band values are 0, there's no data for it, so just remove them\n",
        "#currently finds indicies of non zero elements of all bands and finds the intersection\n",
        "imgurr = [0,0,0,0,0,0]\n",
        "i=0\n",
        "while i < 6:\n",
        "  imgurr[i] = np.nonzero(imarr[i])\n",
        "  print(len(imgurr[i][1]))\n",
        "  i = i+1\n",
        "\n",
        "\n",
        "print(len(imgurr[1]))\n",
        "\n",
        "#\\/\\/no\\/\\/\n",
        "#find their intersections\n",
        "#img_pixels = reduce(np.intersect1d, (img[0],img[1],img[2],img[3],img[4],img[5]))\n",
        "#these should be pixels with nonzero band values \n",
        "\n",
        "#^^this can only be done in 2d\n",
        "\n",
        "#img_pixels0 = img_pixels[0]\n",
        "#img_pixels1 = img_pixels[1]\n",
        "\n",
        "#print(len(img[0][1]))\n",
        "#print(len(img_pixels))\n",
        "#print(len(img_pixels))\n",
        "\n",
        "#now wee need intersection between flooded/non pixels and img_pixels to check where there is no band data\n",
        "\n",
        "\n",
        "\n",
        "#of particular image, select pixels with above indicies\n",
        "#and put them in array of classified data\n",
        "\n",
        "#split up tuple into usable arrays and intersect with pixels\n",
        "#axis0 = np.intersect1d(fparrI[0], img_pixels0)\n",
        "#axis1 = np.intersect1d(fparrI[1], img_pixels1)\n",
        "\n",
        "#axisn0 = np.intersect1d(fparrnI[0], img_pixels0)\n",
        "#axisn1 = np.intersect1d(fparrnI[1], img_pixels1)\n",
        "#print(len(axis1))\n",
        "#print(len(axisn1))\n",
        "\n",
        "ndwi_image = ndwi_img(imarr)\n",
        "\n",
        "#print(np.nonzero(ndwi_image))\n",
        "\n",
        "#ndwi map\n",
        "imshow(ndwi_image)"
      ]
    },
    {
      "cell_type": "code",
      "source": [
        "import random\n",
        "\n",
        "#image array of bands\n",
        "imarr = [B2arr,B3arr,B4arr,B8arr,B8Aarr,B11arr]\n",
        "\n",
        "#preimage array of bands\n",
        "imparr = [B2parr,B3parr,B4parr,B8parr,B8Aparr,B11parr]\n",
        "\n",
        "\n",
        "#where no band values are 0\n",
        "\n",
        "#first sum the bands, then take nonzeros\n",
        "\n",
        "#S2 summation\n",
        "ar1 = np.add(imarr[0],imarr[1])\n",
        "ar2 = np.add(imarr[2],imarr[3])\n",
        "ar3 = np.add(imarr[4],imarr[5])\n",
        "\n",
        "ar12 = np.add(ar1,ar2)\n",
        "artot = np.add(ar12,ar3)\n",
        "\n",
        "#nonzeros\n",
        "nfparrI = np.nonzero(artot)\n",
        "print(len(nfparrI[1]))\n",
        "\n",
        "#randomly pick mx* number of non flood pixels if there are more flood pixels\n",
        "\n",
        "#create empty tuple of 2 arrays\n",
        "notfparrI = [0,0]\n",
        "\n",
        "#mx is multiplier of how many non flood pixels to take, mx*(no. of flood pixels) = no. of non flood pixels chosen\n",
        "mx = 3\n",
        "flength = len(fparrI[0])\n",
        "nflength = len(nfparrI[0])\n",
        "if(len(nfparrI[0])>mx*len(fparrI[0])):\n",
        "  #first choose indicies randomly\n",
        "  indarr = random.sample(range(0,nflength,1), mx*flength)\n",
        "  notfparrI[0] = nfparrI[0][indarr]\n",
        "  notfparrI[1] = nfparrI[1][indarr]\n",
        "\n",
        "print(len(notfparrI[0])/(mx*flength)) #==1?"
      ],
      "metadata": {
        "id": "WyvQu_GUAAxV"
      },
      "execution_count": null,
      "outputs": []
    },
    {
      "cell_type": "code",
      "source": [
        "print(len(fparrI))"
      ],
      "metadata": {
        "id": "5VbrCGE23Itc"
      },
      "execution_count": null,
      "outputs": []
    },
    {
      "cell_type": "code",
      "source": [
        "import random\n",
        "\n",
        "#non flood pixel generator, choose a random offset from a flooded pixel\n",
        "#then check that value in floodpixels array, if it is, then dont add it\n",
        "#NB this is a lazy way to do and will take a long time with larger images\n",
        "\n",
        "notfparrI = [0,0]\n",
        "temp0 = []\n",
        "temp1 = []\n",
        "mx=10 #10*mx pixels end up being chosen, so choose a large number, then take a random subset, same size as number of flood pixels\n",
        "i=0\n",
        "while(i<len(fparrI[0])):\n",
        "\n",
        "  count=0\n",
        "  while(count<mx):\n",
        "\n",
        "    #generate random offset in each dimension within [-5,5]\n",
        "    off0 = random.randint(-5,5);\n",
        "    off1 = random.randint(-5,5);\n",
        "\n",
        "    #array indicies with index\n",
        "    it0 = fparrI[0][i]+off0\n",
        "    it1 = fparrI[1][i]+off1\n",
        "\n",
        "    #check that these indicies are within range, otherwise\n",
        "    #this offset won't be considered\n",
        "    if((it0<len(fparr[0])-1) and (it1<1+len(fparr[1])-1)):\n",
        "      #if that is not a flood pixel, add to notfparrI\n",
        "      if(fparr[fparr[0][it0],fparr[1][it1]] != 1):\n",
        "        #print(\"fasf\")\n",
        "        temp0.append(it0)\n",
        "        temp1.append(it1)\n",
        "\n",
        "    count = count+1\n",
        "\n",
        "\n",
        "  i = i+1\n",
        "\n",
        "print(\"length difference:\", len(temp0)-len(temp1))#should be 0\n",
        "print(\"length (mx*no. of flood pixels):\", len(temp0))\n",
        "\n",
        "#initialise empty stuff\n",
        "nonfparrI = [0,0]\n",
        "nonfparrI[0] = np.array(temp0)\n",
        "nonfparrI[1] = np.array(temp1)\n",
        "\n",
        "#randomly select flength non flood pixels\n",
        "flength = len(fparrI[0])\n",
        "nflength = len(temp0)\n",
        "if(len(nfparrI[0])>mx*len(fparrI[0])):\n",
        "  indarr = random.sample(range(0,nflength,1), flength)\n",
        "  indarr.sort()\n",
        "  print(\"Pixels selected:\", len(indarr))\n",
        "  notfparrI[0] = nonfparrI[0][indarr]\n",
        "  notfparrI[1] = nonfparrI[1][indarr]\n",
        "\n",
        "print(temp1)"
      ],
      "metadata": {
        "id": "ZybY-P960tv-"
      },
      "execution_count": null,
      "outputs": []
    },
    {
      "cell_type": "code",
      "source": [
        "print(indarr)"
      ],
      "metadata": {
        "id": "zI1fSQ3d99dS"
      },
      "execution_count": null,
      "outputs": []
    },
    {
      "cell_type": "code",
      "execution_count": null,
      "metadata": {
        "id": "b6uC8v6cw5Ku"
      },
      "outputs": [],
      "source": [
        "pixel_index = [0,0,0,0,0,0]\n",
        "non_pixel_index = [0,0,0,0,0,0]\n",
        "p_pixel_index = [0,0,0,0,0,0]\n",
        "p_non_pixel_index = [0,0,0,0,0,0]\n",
        "\n",
        "\n",
        "\n",
        "#image array of bands\n",
        "imarr = [B2arr,B3arr,B4arr,B8arr,B8Aarr,B11arr]\n",
        "\n",
        "#preimage array of bands\n",
        "imparr = [B2parr,B3parr,B4parr,B8parr,B8Aparr,B11parr]\n",
        "#\n",
        "i=0;\n",
        "while i < 6:\n",
        "  tmp = imarr[i]\n",
        "  p_tmp = imparr[i]\n",
        "  pixel_index[i] = tmp[fparrI[0],fparrI[1]]\n",
        "  p_pixel_index[i] = p_tmp[fparrI[0],fparrI[1]]\n",
        "  non_pixel_index[i] = tmp[notfparrI[0],notfparrI[1]]\n",
        "  p_non_pixel_index[i] = p_tmp[notfparrI[0],notfparrI[1]]\n",
        "  i=i+1\n",
        "\n",
        "print(len(pixel_index[5]))\n",
        "\n",
        "#save to txt\n",
        "np.savetxt(\"floodpixels.txt\", np.array(pixel_index), fmt=\"%s\")\n",
        "np.savetxt(\"pfloodpixels.txt\", np.array(p_pixel_index), fmt=\"%s\")\n",
        "np.savetxt(\"nonfloodpixels.txt\", np.array(non_pixel_index), fmt=\"%s\")\n",
        "np.savetxt(\"pnonfloodpixels.txt\", np.array(p_non_pixel_index), fmt=\"%s\")\n",
        "#imagedata.txt has pixel values for each band where there were flooded pixels\n",
        "\n",
        "#todo - the arrays should be the image-preimage\n",
        "#need to get when !(all bands == 0) so we don't get junk\n",
        "\n",
        "df = pd.DataFrame(pixel_index)\n",
        "df.to_csv(\"data.csv\")\n",
        "\n",
        "#check dimensions make sense\n",
        "def dim(a):\n",
        "  if not type(a) == list:\n",
        "        return []\n",
        "  return [len(a)] + dim(a[0])\n",
        "\n",
        "print(dim(pixel_index))"
      ]
    },
    {
      "cell_type": "code",
      "source": [
        "#reading SAR data from txt, takes a while\n",
        "\n",
        "#open vh, vv images\n",
        "f = open(\"VH image 2020-01-19.tif.txt\")\n",
        "VHarr = np.loadtxt(f,delimiter=\",\")\n",
        "f.close()\n",
        "\n",
        "f = open(\"VV image 2020-01-19.tif.txt\")\n",
        "VVarr = np.loadtxt(f,delimiter=\",\")\n",
        "f.close()\n",
        "\n",
        "\n",
        "#open vh, vv preimages\n",
        "f = open(\"VH pre-image 2020-01-19.tif.txt\")\n",
        "VHparr = np.loadtxt(f,delimiter=\",\")\n",
        "f.close()\n",
        "\n",
        "f = open(\"VV pre-image 2020-01-19.tif.txt\")\n",
        "VVparr = np.loadtxt(f,delimiter=\",\")\n",
        "f.close()\n",
        "\n",
        "\n",
        "##convert to arrays (redundant)\n",
        "#VHarr = np.array(VH)\n",
        "#VVarr = np.array(VV)\n",
        "#VHparr = np.array(VHp)\n",
        "#VVparr = np.array(VVp)"
      ],
      "metadata": {
        "id": "e-IO9vyOz44g"
      },
      "execution_count": null,
      "outputs": []
    },
    {
      "cell_type": "code",
      "source": [
        "#open flood pixels, done already but for readability\n",
        "fp = Image.open(\"floodpixels 2020-01-19.tif\")\n",
        "fparr = np.array(fp)\n",
        "\n",
        "fparrI = np.nonzero(fparr)#indicies of flood pixels\n",
        "fparrnI = np.where(fparr == 0)#indicies where there are no flood pixels\n",
        "\n",
        "pixel_index = [0,0]\n",
        "non_pixel_index = [0,0]\n",
        "\n",
        "i=0\n",
        "while i<2:\n",
        "\n",
        "  pixel_index[i] = fparrI[i]\n",
        "  non_pixel_index[i] = fparrnI[i]\n",
        "\n",
        "  i = i+1\n",
        "\n",
        "#rescale these to positions in the new image in case of different dimensions (although same area coverage)\n",
        "L = len(B2arr[1])\n",
        "H = len(B2arr)\n",
        "Lprime = len(VHarr[1])\n",
        "Hprime = len(VHarr)\n",
        "\n",
        "#print to check\n",
        "print(L,H,Lprime,Hprime)\n",
        "\n",
        "#precalculate ratios\n",
        "Lrat = Lprime/L\n",
        "Hrat = Hprime/H\n",
        "\n",
        "#print to check\n",
        "print(Lrat,Hrat)\n",
        "\n",
        "print(\"old fpx:\", pixel_index[0][123])\n",
        "print(\"old fpy:\", pixel_index[1][123])\n",
        "print(\"old nfpx:\", non_pixel_index[0][123])\n",
        "print(\"old nfpy:\", non_pixel_index[1][123])\n",
        "\n",
        "\n",
        "#replace pixel arrays with scaled index values\n",
        "#flood pixels\n",
        "pixel_index[0] = np.int_(np.round(pixel_index[0]*Hrat))\n",
        "pixel_index[1] = np.int_(np.round(pixel_index[1]*Lrat))\n",
        "#non flood pixels\n",
        "non_pixel_index[0] = np.int_(np.round(non_pixel_index[0])*Hrat)\n",
        "non_pixel_index[1] = np.int_(np.round(non_pixel_index[1])*Lrat)\n",
        "\n",
        "#check if the new values go out of bounds of new image, if so, reduce by 1\n",
        "#very inefficient btw\n",
        "lenpi = len(fparr[0])\n",
        "nlenpi = len(fparrnI[0])\n",
        "i=0\n",
        "while i < len(pixel_index[0]):\n",
        "\n",
        "  #get array elements to avoid extra calls\n",
        "  pi0 = pixel_index[0][i]\n",
        "  pi1 = pixel_index[1][i]\n",
        "  npi0 =non_pixel_index[0][i]\n",
        "  npi1 =non_pixel_index[1][i]\n",
        "\n",
        "  #check if out of bounds and put in bounds if they are out of bounds\n",
        "  pixel_index[0][i] = pi0 if pi0 < lenpi else pi0-1\n",
        "  pixel_index[1][i] = pi1 if pi1 < lenpi else pi1-1\n",
        "  non_pixel_index[0][i] = npi0 if npi0 < nlenpi else npi0-1\n",
        "  non_pixel_index[1][i] = npi1 if npi1 < nlenpi else npi1-1\n",
        "\n",
        "  #increment\n",
        "  i=i+1\n",
        "\n",
        "\n",
        "\n",
        "#print check\n",
        "print(\"new fpx:\", pixel_index[0][123])\n",
        "print(\"new fpy:\", pixel_index[1][123])\n",
        "print(\"new nfpx:\", non_pixel_index[0][123])\n",
        "print(\"new nfpy:\", non_pixel_index[1][123])\n",
        "\n",
        "fparrI = [0,0]\n",
        "fparrnI = [0,0]\n",
        "\n",
        "i=0\n",
        "while i<2:\n",
        "\n",
        "  fparrI[i] = pixel_index[i]\n",
        "  fparrnI[i] = non_pixel_index[i]\n",
        "\n",
        "  i = i+1\n",
        "\n"
      ],
      "metadata": {
        "id": "b82ydEiNbQgH"
      },
      "execution_count": null,
      "outputs": []
    },
    {
      "cell_type": "code",
      "source": [
        "#show plot of image\n",
        "imshow(VHarr)"
      ],
      "metadata": {
        "id": "C6nbormyJwsI"
      },
      "execution_count": null,
      "outputs": []
    },
    {
      "cell_type": "code",
      "source": [
        "#find the difference between flood/non flood (image-preimage)\n",
        "subtractarrVV = np.subtract(VVarr,VVparr)\n",
        "subtractarrVH = np.subtract(VHarr,VHparr)\n",
        "imarr = [subtractarrVH,subtractarrVV]\n",
        "\n",
        "#print(subtractarrVV)\n",
        "\n",
        "#find flood pixels and non flood pixels\n",
        "#pixel_index = subtractarr[fparrI[0],fparrI[1]]\n",
        "#non_pixel_index = subtractarr[notfparrI[0],notfparrI[1]]\n",
        "#non flood pixel index just uses the same as for the S2 images so it is definitely in the same bounds\n",
        "\n",
        "#find flood pixels and non flood pixels\n",
        "pixel_index = [0,0]\n",
        "non_pixel_index = [0,0]\n",
        "#\n",
        "i=0;\n",
        "while i < 2:\n",
        "  tmp = imarr[i]\n",
        "  pixel_index[i] = tmp[fparrI[0],fparrI[1]]\n",
        "  non_pixel_index[i] = tmp[notfparrI[0],notfparrI[1]]\n",
        "  i=i+1\n",
        "\n",
        "\n",
        "\n",
        "#save to txt\n",
        "np.savetxt(\"floodpixelsS1.txt\", np.array(pixel_index), fmt=\"%s\")\n",
        "np.savetxt(\"nonfloodpixelsS1.txt\", np.array(non_pixel_index), fmt=\"%s\")"
      ],
      "metadata": {
        "id": "Tjgso1foax9t"
      },
      "execution_count": null,
      "outputs": []
    },
    {
      "cell_type": "code",
      "source": [
        "###OBSOLETED CELL\n",
        "\n",
        "#reading SAR data\n",
        "\n",
        "#open vh, vv images\n",
        "VH = Image.open(\"VH image 2020-01-19.tif\")\n",
        "VV = Image.open(\"VV image 2020-01-19.tif\")\n",
        "\n",
        "\n",
        "#open vh, vv preimages\n",
        "VHp = Image.open(\"VH pre-image 2020-01-19.tif\")\n",
        "VVp = Image.open(\"VV pre-image 2020-01-19.tif\")\n",
        "\n",
        "#convert to arrays\n",
        "VHarr = np.array(VH)\n",
        "VVarr = np.array(VV)\n",
        "\n",
        "VHparr = np.array(VHp)\n",
        "VVparr = np.array(VVp)\n",
        "\n",
        "#open flood pixels, done already but for readability\n",
        "fp = Image.open(\"floodpixels 2020-01-19.tif\")\n",
        "fparr = np.array(fp)"
      ],
      "metadata": {
        "id": "FbG5R5zpA_3c"
      },
      "execution_count": null,
      "outputs": []
    },
    {
      "cell_type": "markdown",
      "source": [
        "junk below"
      ],
      "metadata": {
        "id": "sxApO-SkJkms"
      }
    },
    {
      "cell_type": "code",
      "execution_count": null,
      "metadata": {
        "colab": {
          "base_uri": "https://localhost:8080/"
        },
        "id": "Z64JyA2Gv0Kp",
        "outputId": "aaeb86a5-f536-4c55-9902-7de3bc52431a"
      },
      "outputs": [
        {
          "name": "stdout",
          "output_type": "stream",
          "text": [
            "0.0006158351898193359 s time iterating\n",
            "487 sfafsdg\n",
            "0.00013256072998046875 s time vectorizing\n",
            "487 wwww\n"
          ]
        }
      ],
      "source": [
        "#select flood pixels from image, this cell is just for timing\n",
        "\n",
        "#flood_img_pixels = img[[fparrIi[:,0],fparrI[:,1]]\n",
        "\n",
        "img = imarr[0]\n",
        "\n",
        "#less bad but still bad\n",
        "start = time.time()\n",
        "flood_img_pixels = []\n",
        "for i,j in zip(axis1,axis2):\n",
        "    flood_img_pixels.append(img[i][j])\n",
        "end = time.time()\n",
        "print(end-start, \"s time iterating\")\n",
        "print(len(flood_img_pixels),\"sfafsdg\")\n",
        "\n",
        "#good\n",
        "start = time.time()\n",
        "fpick = img[fparrI[0],fparrI[1]]\n",
        "end = time.time()\n",
        "print(end-start, \"s time vectorizing\")\n",
        "print(len(fpick),\"wwww\")"
      ]
    },
    {
      "cell_type": "code",
      "execution_count": null,
      "metadata": {
        "colab": {
          "base_uri": "https://localhost:8080/",
          "height": 219
        },
        "id": "G8UYMK1uY-E7",
        "outputId": "68a8b1c8-7080-45ea-b5f7-834b703114aa"
      },
      "outputs": [
        {
          "name": "stdout",
          "output_type": "stream",
          "text": [
            "487 sfafsdg\n",
            "487 wwww\n"
          ]
        },
        {
          "data": {
            "text/plain": [
              "<matplotlib.image.AxesImage at 0x7fdee4f7aa90>"
            ]
          },
          "execution_count": 20,
          "metadata": {},
          "output_type": "execute_result"
        },
        {
          "data": {
            "image/png": "[encoded data removed]",
            "text/plain": [
              "<Figure size 432x288 with 1 Axes>"
            ]
          },
          "metadata": {},
          "output_type": "display_data"
        }
      ],
      "source": [
        "#training per-pixel\n",
        "\n",
        "#identifying features\n",
        "features = [\"nonflood\", \"flood\"]\n",
        "\n",
        "#image array of bands\n",
        "imarr = [B2arr,B3arr,B4arr,B8arr,B8Aarr,B11arr]\n",
        "\n",
        "#preimage array of bands\n",
        "imparr = [B2parr,B3parr,B4parr,B8parr,B8Aparr,B11parr]\n",
        "\n",
        "#find nonzero indicies of flood pixels array\n",
        "#returns tuple of 2 arrays with indicies\n",
        "fparrI = np.nonzero(fparr)\n",
        "\n",
        "#print(fparrI)\n",
        "\n",
        "#of particular image, select pixels with above indicies\n",
        "#and put them in array of classified data\n",
        "\n",
        "#split up tuple into usable arrays\n",
        "axis1 = fparrI[0]\n",
        "axis2 = fparrI[1]\n",
        "\n",
        "\n",
        "#select flood pixels from image\n",
        "ww = len(axis1)\n",
        "\n",
        "##expanding to rgb image\n",
        "rgb = np.dstack((imarr[2],imarr[1],imarr[0]))\n",
        "\n",
        "rgb_flood_pixels = []\n",
        "for i in axis1:\n",
        "  rgb_flood_pixels.append(rgb[i][i])\n",
        "\n",
        "#rgb_flood_pixels is 3d array\n",
        "#print(rgb_flood_pixels)\n",
        "\n",
        "#print(len(B2arr))\n",
        "\n",
        "\n",
        "#now have ndwi of image, flood pixel indicies\n",
        "#index by array\n",
        "#save flood data"
      ]
    }
  ],
  "metadata": {
    "colab": {
      "collapsed_sections": [],
      "name": "ml.ipynb",
      "provenance": []
    },
    "kernelspec": {
      "display_name": "Python 3",
      "name": "python3"
    },
    "language_info": {
      "name": "python"
    }
  },
  "nbformat": 4,
  "nbformat_minor": 0
}